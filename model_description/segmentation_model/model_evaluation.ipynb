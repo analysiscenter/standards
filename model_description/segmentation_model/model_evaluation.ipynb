{
 "cells": [
  {
   "cell_type": "markdown",
   "metadata": {},
   "source": [
    "## Model evaluation"
   ]
  },
  {
   "cell_type": "markdown",
   "metadata": {},
   "source": [
    "For model performance assessment we want to obtain the distribution of the model accuracy over N independent runs of the training procedure."
   ]
  },
  {
   "cell_type": "markdown",
   "metadata": {},
   "source": [
    "* [The experiment details](#The-experiment-details)\n",
    "* [Results](#Results)\n"
   ]
  },
  {
   "cell_type": "code",
   "execution_count": 1,
   "metadata": {},
   "outputs": [
    {
     "name": "stdout",
     "output_type": "stream",
     "text": [
      "env: CUDA_VISIBLE_DEVICES='6,7'\n"
     ]
    }
   ],
   "source": [
    "import os\n",
    "import sys\n",
    "import glob\n",
    "import dill\n",
    "import numpy as np\n",
    "import matplotlib.pyplot as plt\n",
    "\n",
    "sys.path.insert(0, os.path.join(\"..\", \"..\"))\n",
    "from batchflow import Dataset, B, V, C, Pipeline\n",
    "from batchflow.models.tf import UNet\n",
    "from batchflow.research import Research, Results\n",
    "\n",
    "from src import ShapesBatch, show_samples, show_histogram\n",
    "\n",
    "%env CUDA_VISIBLE_DEVICES='6,7'"
   ]
  },
  {
   "cell_type": "markdown",
   "metadata": {},
   "source": [
    "## The experiment details"
   ]
  },
  {
   "cell_type": "markdown",
   "metadata": {},
   "source": [
    "Dataset loading"
   ]
  },
  {
   "cell_type": "code",
   "execution_count": 2,
   "metadata": {},
   "outputs": [],
   "source": [
    "imset = Dataset(1000, ShapesBatch)"
   ]
  },
  {
   "cell_type": "markdown",
   "metadata": {},
   "source": [
    "Define model config"
   ]
  },
  {
   "cell_type": "code",
   "execution_count": 3,
   "metadata": {},
   "outputs": [],
   "source": [
    "model_config={'inputs/images/shape': B('image_shape'),\n",
    "              'inputs/masks/shape': B('image_shape'),\n",
    "              'initial_block/inputs': 'images',\n",
    "              'initial_block/filters': 12, \n",
    "              'body/encoder/num_stages': 3,\n",
    "              'body/encoder/blocks/filters': [24, 48, 96], \n",
    "              'body/decoder/blocks/filters': [48, 24, 12],\n",
    "              'head/filters': 12,\n",
    "              'loss': 'bce',\n",
    "              'optimizer': 'Adam',\n",
    "              'output': 'sigmoid',\n",
    "             }"
   ]
  },
  {
   "cell_type": "markdown",
   "metadata": {},
   "source": [
    "Define training and test pipeline"
   ]
  },
  {
   "cell_type": "code",
   "execution_count": 4,
   "metadata": {},
   "outputs": [],
   "source": [
    "batch_size = 20\n",
    "\n",
    "train_template = (Pipeline()\n",
    "                  .init_model('dynamic', UNet, 'unet', config=model_config)\n",
    "                  .sample_images(128, max_r=24)\n",
    "                  .train_model('unet', fetches='loss', images=B('images'), masks=B('masks'))\n",
    "                  .run_later(batch_size=batch_size, n_epochs=None))\n",
    "\n",
    "test_template = (Pipeline()\n",
    "                 .import_model('unet', C('import_from'))\n",
    "                 .init_variable('predictions')\n",
    "                 .init_variable('metrics', init_on_each_run=None)\n",
    "                 .sample_images(128, max_r=24)\n",
    "                 .predict_model('unet', fetches='sigmoid', images=B('images'),\n",
    "                                save_to=V('predictions'))\n",
    "                 .gather_metrics('segmentation',\n",
    "                                 targets=B('masks'),\n",
    "                                 predictions=V('predictions'),\n",
    "                                 fmt='proba',\n",
    "                                 save_to=V('metrics', mode='u'))\n",
    "                 .run_later(batch_size, n_epochs=1))"
   ]
  },
  {
   "cell_type": "markdown",
   "metadata": {},
   "source": [
    "Create a research object:"
   ]
  },
  {
   "cell_type": "code",
   "execution_count": 5,
   "metadata": {},
   "outputs": [],
   "source": [
    "research = (Research()\n",
    "            .add_pipeline(train_template << imset, name='train')\n",
    "            .add_pipeline(test_template << imset, variables='metrics', execute='last',\n",
    "                          name='test', run=True, import_from='train')\n",
    "            .get_metrics(pipeline='test', metrics_var='metrics', metrics_name='iou',\n",
    "                         returns='iou', execute='last')\n",
    "           )"
   ]
  },
  {
   "cell_type": "markdown",
   "metadata": {},
   "source": [
    "Run 20 independent training and test procedures "
   ]
  },
  {
   "cell_type": "code",
   "execution_count": 7,
   "metadata": {},
   "outputs": [
    {
     "name": "stdout",
     "output_type": "stream",
     "text": [
      "Research model_estimation_research is starting...\n"
     ]
    },
    {
     "name": "stderr",
     "output_type": "stream",
     "text": [
      "  0%|          | 0/4000 [00:00<?, ?it/s]"
     ]
    },
    {
     "name": "stdout",
     "output_type": "stream",
     "text": [
      "Distributor has 20 jobs with 200 iterations. Totally: 4000\n"
     ]
    },
    {
     "name": "stderr",
     "output_type": "stream",
     "text": [
      "100%|██████████| 4000/4000 [06:31<00:00, 10.21it/s]\n"
     ]
    },
    {
     "data": {
      "text/plain": [
       "<batchflow.research.research.Research at 0x7f2db0afcef0>"
      ]
     },
     "execution_count": 7,
     "metadata": {},
     "output_type": "execute_result"
    }
   ],
   "source": [
    "research.run(n_reps=20, n_iters=200, name='model_estimation_research', bar=True, workers=2, gpu=[6,7])"
   ]
  },
  {
   "cell_type": "code",
   "execution_count": 8,
   "metadata": {},
   "outputs": [],
   "source": [
    "df = research.load_results(names='test_metrics')"
   ]
  },
  {
   "cell_type": "markdown",
   "metadata": {},
   "source": [
    "## Results"
   ]
  },
  {
   "cell_type": "markdown",
   "metadata": {},
   "source": [
    "Histogram and a median value of the test metrics"
   ]
  },
  {
   "cell_type": "code",
   "execution_count": 9,
   "metadata": {
    "scrolled": true
   },
   "outputs": [
    {
     "data": {
      "image/png": "[encoded data removed]",
      "text/plain": [
       "<Figure size 432x288 with 1 Axes>"
      ]
     },
     "metadata": {
      "needs_background": "light"
     },
     "output_type": "display_data"
    },
    {
     "name": "stdout",
     "output_type": "stream",
     "text": [
      "The average (median) value is  0.955\n"
     ]
    }
   ],
   "source": [
    "show_histogram(df.iou.values)\n",
    "print('The average (median) value is  %.3f' % np.median(df.iou.values))"
   ]
  }
 ],
 "metadata": {
  "kernelspec": {
   "display_name": "Python 3",
   "language": "python",
   "name": "python3"
  },
  "language_info": {
   "codemirror_mode": {
    "name": "ipython",
    "version": 3
   },
   "file_extension": ".py",
   "mimetype": "text/x-python",
   "name": "python",
   "nbconvert_exporter": "python",
   "pygments_lexer": "ipython3",
   "version": "3.5.2"
  }
 },
 "nbformat": 4,
 "nbformat_minor": 4
}
