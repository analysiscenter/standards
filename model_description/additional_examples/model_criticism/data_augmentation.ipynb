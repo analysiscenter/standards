{
 "cells": [
  {
   "cell_type": "markdown",
   "metadata": {},
   "source": [
    "# Model criticism: Not enough data augmentation"
   ]
  },
  {
   "cell_type": "markdown",
   "metadata": {},
   "source": [
    "A trained model is not invariant to some transformations of input data that may appear in the test set."
   ]
  },
  {
   "cell_type": "code",
   "execution_count": 1,
   "metadata": {},
   "outputs": [
    {
     "name": "stdout",
     "output_type": "stream",
     "text": [
      "env: CUDA_VISIBLE_DEVICES='6,7'\n"
     ]
    }
   ],
   "source": [
    "import os\n",
    "import sys\n",
    "\n",
    "import numpy as np\n",
    "import matplotlib.pyplot as plt\n",
    "\n",
    "sys.path.insert(0, os.path.join(\"..\", \"..\", \"..\"))\n",
    "from batchflow import Pipeline, B, V, D\n",
    "from batchflow.opensets import MNIST\n",
    "from batchflow.models.tf import TFModel\n",
    "\n",
    "from src import show_loss\n",
    "\n",
    "%env CUDA_VISIBLE_DEVICES='6,7'"
   ]
  },
  {
   "cell_type": "markdown",
   "metadata": {},
   "source": [
    "## Dataset"
   ]
  },
  {
   "cell_type": "markdown",
   "metadata": {},
   "source": [
    "For training and model performance assessment we use the MNIST dataset of images of size 28х28 pixels in greyscale."
   ]
  },
  {
   "cell_type": "code",
   "execution_count": 2,
   "metadata": {
    "scrolled": true
   },
   "outputs": [],
   "source": [
    "mnist = MNIST()"
   ]
  },
  {
   "cell_type": "markdown",
   "metadata": {},
   "source": [
    "## Model architecture"
   ]
  },
  {
   "cell_type": "markdown",
   "metadata": {},
   "source": [
    "We use CNN with 3 convolutional layers and one dense layer in the end.\n",
    "\n",
    "Loss function is categorical cross-entropy.\n",
    "\n",
    "Optimizer is Adam with default parameters."
   ]
  },
  {
   "cell_type": "code",
   "execution_count": 3,
   "metadata": {},
   "outputs": [],
   "source": [
    "model_config = {\n",
    "    'inputs/images/shape': B('image_shape'),\n",
    "    'inputs/labels/classes': D('num_classes'),\n",
    "    \"initial_block/inputs\": \"images\",\n",
    "    \"body\": {\"layout\": \"cpa\" * 3, \"filters\": 10, \"kernel_size\": 3},\n",
    "    \"head\": {\"layout\": \"f\", \"units\": D('num_classes')},\n",
    "    \"loss\": \"crossentropy\",\n",
    "    \"optimizer\": \"Adam\",\n",
    "}"
   ]
  },
  {
   "cell_type": "markdown",
   "metadata": {},
   "source": [
    "## Model training"
   ]
  },
  {
   "cell_type": "markdown",
   "metadata": {},
   "source": [
    "We train model for 10 epochs with batch size 256."
   ]
  },
  {
   "cell_type": "code",
   "execution_count": 4,
   "metadata": {},
   "outputs": [],
   "source": [
    "N_EPOCH = 10\n",
    "BATCH_SIZE = 256"
   ]
  },
  {
   "cell_type": "code",
   "execution_count": 5,
   "metadata": {},
   "outputs": [
    {
     "name": "stderr",
     "output_type": "stream",
     "text": [
      "100%|██████████| 2340/2340 [03:20<00:00, 11.68it/s]\n"
     ]
    }
   ],
   "source": [
    "template_train_pipeline = (\n",
    "    Pipeline()\n",
    "    .init_variable(\"loss_history\", init_on_each_run=list)\n",
    "    .init_model(\"dynamic\", TFModel, \"conv_model\", config=model_config)\n",
    "    .to_array()\n",
    "    .train_model(\"conv_model\", images=B(\"images\"), labels=B(\"labels\"),\n",
    "                 fetches=\"loss\", save_to=V(\"loss_history\", mode=\"a\"))\n",
    "    .run_later(batch_size=BATCH_SIZE, n_epochs=N_EPOCH, shuffle=True, drop_last=True, bar=True)\n",
    ")\n",
    "\n",
    "train_pipeline = (mnist.train >> template_train_pipeline).run()"
   ]
  },
  {
   "cell_type": "markdown",
   "metadata": {},
   "source": [
    "Loss function vs number of iterations plot comes to a plateau, which indicates the convergence of the learning process:"
   ]
  },
  {
   "cell_type": "code",
   "execution_count": 6,
   "metadata": {},
   "outputs": [
    {
     "data": {
      "image/png": "[encoded data removed]",
      "text/plain": [
       "<Figure size 432x288 with 1 Axes>"
      ]
     },
     "metadata": {
      "needs_background": "light"
     },
     "output_type": "display_data"
    }
   ],
   "source": [
    "show_loss(train_pipeline.get_variable(\"loss_history\"), skip=100)"
   ]
  },
  {
   "cell_type": "markdown",
   "metadata": {},
   "source": [
    "## Model evaluation"
   ]
  },
  {
   "cell_type": "markdown",
   "metadata": {},
   "source": [
    "Quality metric, in this case, is accuracy on the test set.\n",
    "\n",
    "Metric evaluation pipeline:"
   ]
  },
  {
   "cell_type": "code",
   "execution_count": 7,
   "metadata": {},
   "outputs": [
    {
     "name": "stderr",
     "output_type": "stream",
     "text": [
      "100%|██████████| 40/40 [00:02<00:00, 19.87it/s]\n"
     ]
    }
   ],
   "source": [
    "template_test_pipeline = (\n",
    "    Pipeline()\n",
    "    .import_model(\"conv_model\", train_pipeline)\n",
    "    .init_variable(\"predictions\")\n",
    "    .init_variable(\"metrics\", init_on_each_run=None)\n",
    "    .to_array()\n",
    "    .predict_model(\"conv_model\", images=B(\"images\"), labels=B(\"labels\"),\n",
    "                   fetches=\"predictions\", save_to=V(\"predictions\"))\n",
    "    .gather_metrics(\"class\", targets=B(\"labels\"), predictions=V(\"predictions\"),\n",
    "                    fmt=\"logits\", axis=-1, save_to=V(\"metrics\", mode=\"u\"))\n",
    "    .run_later(batch_size=BATCH_SIZE, n_epochs=1, drop_last=False, bar=True)\n",
    ")\n",
    "\n",
    "test_pipeline = (mnist.test >> template_test_pipeline).run()"
   ]
  },
  {
   "cell_type": "markdown",
   "metadata": {},
   "source": [
    "As you can see, the model learned to recognize numbers from the test data set with high accuracy:"
   ]
  },
  {
   "cell_type": "code",
   "execution_count": 8,
   "metadata": {},
   "outputs": [
    {
     "data": {
      "text/plain": [
       "0.9704"
      ]
     },
     "execution_count": 8,
     "metadata": {},
     "output_type": "execute_result"
    }
   ],
   "source": [
    "test_pipeline.get_variable(\"metrics\").evaluate(\"accuracy\")"
   ]
  },
  {
   "cell_type": "markdown",
   "metadata": {},
   "source": [
    "## Model criticism"
   ]
  },
  {
   "cell_type": "markdown",
   "metadata": {},
   "source": [
    "Let's see how the model will classify a digit shifted away from the center: the first picture shows an initial digit from the test set, the second and third shows the same digit, but shifted 4 pixels up-left and down-right, respectively."
   ]
  },
  {
   "cell_type": "code",
   "execution_count": 10,
   "metadata": {},
   "outputs": [
    {
     "data": {
      "image/png": "[encoded data removed]",
      "text/plain": [
       "<Figure size 1080x360 with 3 Axes>"
      ]
     },
     "metadata": {
      "needs_background": "light"
     },
     "output_type": "display_data"
    }
   ],
   "source": [
    "fig, axes = plt.subplots(1, 3, figsize=(15, 5))\n",
    "\n",
    "model = train_pipeline.get_model_by_name(\"conv_model\")\n",
    "offsets = [(0, 0), (-4, -4), (4, 4)]\n",
    "for ax, offset in zip(axes, offsets):\n",
    "    mnist.test.reset_iter()\n",
    "    image = np.array(mnist.test.next_batch(1).shift(offset).images[0])\n",
    "    image = image.reshape((1,) + image.shape + (1,))\n",
    "    prediction = np.argmax(model.predict(fetches=\"predictions\", images=image)[0])\n",
    "    ax.set_title(\"Predicted class: {}\".format(prediction))\n",
    "    ax.imshow(image[0, :, :, 0], cmap=\"gray\")\n",
    "    ax.grid(False)\n",
    "plt.show()"
   ]
  },
  {
   "cell_type": "markdown",
   "metadata": {},
   "source": [
    "From these examples it is clear that the model is not invariant to the shift of the input image. The problem can be solved, for example, by adding augmentations — input transformations that will make the training sample more diverse. In this case, you need to add an action of randomly shifting the input image to the training pipeline.\n",
    "\n",
    "At the same time, the augmentation scheme must be chosen carefully so that we do not add unnecessary or inappropriate transformations. For example, adding a turn at an angle close to 180 degrees will make the numbers 6 and 9 indistinguishable for the human eye and for the model as well."
   ]
  }
 ],
 "metadata": {
  "kernelspec": {
   "display_name": "Python 3",
   "language": "python",
   "name": "python3"
  },
  "language_info": {
   "codemirror_mode": {
    "name": "ipython",
    "version": 3
   },
   "file_extension": ".py",
   "mimetype": "text/x-python",
   "name": "python",
   "nbconvert_exporter": "python",
   "pygments_lexer": "ipython3",
   "version": "3.5.2"
  }
 },
 "nbformat": 4,
 "nbformat_minor": 4
}
