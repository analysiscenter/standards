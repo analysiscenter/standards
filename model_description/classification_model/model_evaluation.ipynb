{
 "cells": [
  {
   "cell_type": "markdown",
   "metadata": {},
   "source": [
    "## Model evaluation"
   ]
  },
  {
   "cell_type": "markdown",
   "metadata": {},
   "source": [
    "For model performance assessment we want to obtain the distribution of the model accuracy over N independent runs of the training procedure."
   ]
  },
  {
   "cell_type": "markdown",
   "metadata": {},
   "source": [
    "* [Research configuration](#Research-configuration)\n",
    "* [Results](#Results)\n"
   ]
  },
  {
   "cell_type": "code",
   "execution_count": 1,
   "metadata": {},
   "outputs": [],
   "source": [
    "import os\n",
    "import sys\n",
    "import glob\n",
    "import dill\n",
    "import numpy as np\n",
    "import matplotlib.pyplot as plt\n",
    "\n",
    "sys.path.insert(0, os.path.join(\"..\", \"..\"))\n",
    "from batchflow import B, V, C, D, Pipeline\n",
    "from batchflow.opensets import MNIST\n",
    "from batchflow.models.tf import TFModel\n",
    "from batchflow.research import Research, Results\n",
    "\n",
    "from src import show_histogram"
   ]
  },
  {
   "cell_type": "markdown",
   "metadata": {},
   "source": [
    "## Research configuration"
   ]
  },
  {
   "cell_type": "markdown",
   "metadata": {},
   "source": [
    "Dataset loading"
   ]
  },
  {
   "cell_type": "code",
   "execution_count": 2,
   "metadata": {},
   "outputs": [
    {
     "name": "stderr",
     "output_type": "stream",
     "text": [
      "100%|██████████| 8/8 [00:02<00:00,  1.68it/s]\n"
     ]
    }
   ],
   "source": [
    "dataset = MNIST(bar=True)"
   ]
  },
  {
   "cell_type": "markdown",
   "metadata": {},
   "source": [
    "Define the model config:"
   ]
  },
  {
   "cell_type": "code",
   "execution_count": 3,
   "metadata": {},
   "outputs": [],
   "source": [
    "model_config = {\n",
    "    'inputs/images/shape': B('image_shape'),\n",
    "    'inputs/labels/classes': D('num_classes'),\n",
    "    'initial_block/inputs': 'images',\n",
    "    'body': dict(layout='cpna cpna cpna', filters=[64, 128, 256],\n",
    "                 strides=2, pool_strides=1, kernel_size=3),\n",
    "    'head': dict(layout='Pf', units=D('num_classes')),\n",
    "    'loss': 'crossentropy',\n",
    "    'optimizer': ('Momentum', {'use_nesterov': True, 'learning_rate': 0.01, 'momentum': 0.5}),\n",
    "    'output': ['proba']}"
   ]
  },
  {
   "cell_type": "markdown",
   "metadata": {},
   "source": [
    "Define training and test pipelines:"
   ]
  },
  {
   "cell_type": "code",
   "execution_count": 4,
   "metadata": {},
   "outputs": [],
   "source": [
    "train_template = (Pipeline()\n",
    "                  .init_variable('loss_history', init_on_each_run=list)\n",
    "                  .init_model('dynamic', TFModel, 'mnist_model', config=model_config)\n",
    "                  .to_array()\n",
    "                  .train_model('mnist_model', fetches='loss', images=B('images'), labels=B('labels'), \n",
    "                               save_to=V('loss_history', mode='a'))\n",
    "                  .run_later(64, shuffle=True, n_epochs=1, drop_last=True, bar=False))"
   ]
  },
  {
   "cell_type": "code",
   "execution_count": 5,
   "metadata": {},
   "outputs": [],
   "source": [
    "test_template = (Pipeline()\n",
    "                 .import_model('mnist_model', C('import_from'))\n",
    "                 .init_variable('predictions', init_on_each_run=list)\n",
    "                 .init_variable('metrics', init_on_each_run=None)\n",
    "                 .to_array()\n",
    "                 .predict_model('mnist_model', fetches='proba', images=B('images'),\n",
    "                                save_to=V('predictions'))\n",
    "                 .gather_metrics('class', targets=B('labels'), predictions=V('predictions'),\n",
    "                                 fmt='proba', axis=-1, save_to=V('metrics', mode='u'))\n",
    "                 .run_later(64, shuffle=False, n_epochs=1, drop_last=True, bar=False))"
   ]
  },
  {
   "cell_type": "markdown",
   "metadata": {},
   "source": [
    "Create a research object and run 20 independent training and test procedures:"
   ]
  },
  {
   "cell_type": "code",
   "execution_count": 6,
   "metadata": {},
   "outputs": [
    {
     "name": "stdout",
     "output_type": "stream",
     "text": [
      "Research model_evaluation is starting...\n"
     ]
    },
    {
     "name": "stderr",
     "output_type": "stream",
     "text": [
      "  0%|          | 0/20 [00:00<?, ?it/s]"
     ]
    },
    {
     "name": "stdout",
     "output_type": "stream",
     "text": [
      "Distributor has 20 jobs with 1 iterations. Totally: 20\n"
     ]
    },
    {
     "name": "stderr",
     "output_type": "stream",
     "text": [
      "100%|██████████| 20/20 [10:46<00:00, 32.31s/it]\n"
     ]
    }
   ],
   "source": [
    "research = (Research()\n",
    "            .add_pipeline(train_template, dataset=dataset.train, name='train', execute='last', run=True)\n",
    "            .add_pipeline(test_template, dataset=dataset.test, name='test', import_from='train', execute='last', run=True)\n",
    "            .get_metrics(pipeline='test', metrics_var='metrics', metrics_name='accuracy',\n",
    "                         returns='accuracy', execute='last')\n",
    "            .run(n_reps=20, n_iters=1, name='model_evaluation', bar=True, workers=1, gpu=[4]))"
   ]
  },
  {
   "cell_type": "markdown",
   "metadata": {},
   "source": [
    "## Results"
   ]
  },
  {
   "cell_type": "markdown",
   "metadata": {},
   "source": [
    "Save accuracy metric to an array"
   ]
  },
  {
   "cell_type": "code",
   "execution_count": 7,
   "metadata": {},
   "outputs": [],
   "source": [
    "values = research.load_results(names='test_metrics')['accuracy'].values"
   ]
  },
  {
   "cell_type": "markdown",
   "metadata": {},
   "source": [
    "Accuracy histogram and the average value"
   ]
  },
  {
   "cell_type": "code",
   "execution_count": 8,
   "metadata": {},
   "outputs": [
    {
     "data": {
      "image/png": "[encoded data removed]",
      "text/plain": [
       "<Figure size 432x288 with 1 Axes>"
      ]
     },
     "metadata": {
      "needs_background": "light"
     },
     "output_type": "display_data"
    },
    {
     "name": "stdout",
     "output_type": "stream",
     "text": [
      "The average value (median) is 0.984\n"
     ]
    }
   ],
   "source": [
    "show_histogram(values)\n",
    "print('The average value (median) is %.3f' % np.median(values))"
   ]
  }
 ],
 "metadata": {
  "kernelspec": {
   "display_name": "Python 3",
   "language": "python",
   "name": "python3"
  },
  "language_info": {
   "codemirror_mode": {
    "name": "ipython",
    "version": 3
   },
   "file_extension": ".py",
   "mimetype": "text/x-python",
   "name": "python",
   "nbconvert_exporter": "python",
   "pygments_lexer": "ipython3",
   "version": "3.5.2"
  }
 },
 "nbformat": 4,
 "nbformat_minor": 4
}
