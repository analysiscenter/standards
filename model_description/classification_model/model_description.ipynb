{
 "cells": [
  {
   "cell_type": "markdown",
   "metadata": {},
   "source": [
    "# Hand-written digits classification"
   ]
  },
  {
   "cell_type": "markdown",
   "metadata": {},
   "source": [
    "Classification of hand-written digits images to 0, 1, 2, ..."
   ]
  },
  {
   "cell_type": "markdown",
   "metadata": {},
   "source": [
    "* [Dataset](#Dataset)\n",
    "* [Model architecture](#Model-architecture)\n",
    "* [Selection of hyperparameters](#Selection-of-hyperparameters)\n",
    "* [Training](#Training)\n",
    "* [Inference](#Inference)\n",
    "* [Model evaluation](#Model-evaluation)\n",
    "* [Operating time](#Operating-time)\n",
    "* [Criticism](#Criticism)\n",
    "* [Summary](#Summary)\n",
    "* [Proposals for the improvement and further development](#Proposals-for-the-improvement-and-further-development)"
   ]
  },
  {
   "cell_type": "code",
   "execution_count": 1,
   "metadata": {},
   "outputs": [],
   "source": [
    "import os\n",
    "import sys\n",
    "\n",
    "import numpy as np\n",
    "import matplotlib.pyplot as plt\n",
    "\n",
    "sys.path.insert(0, os.path.join(\"..\", \"..\"))\n",
    "from batchflow import B, C, D, F, V, R, Pipeline\n",
    "from batchflow.opensets import MNIST\n",
    "from batchflow.models.tf import TFModel\n",
    "from batchflow.research import Research, Results\n",
    "\n",
    "from src import show_samples, class_histogram, show_loss, show_histogram, class_precision"
   ]
  },
  {
   "cell_type": "markdown",
   "metadata": {},
   "source": [
    "## Dataset\n",
    "\n",
    "For training and model performance assessment we use the [MNIST dataset](http://yann.lecun.com/exdb/mnist/).\n",
    "\n",
    "It contains grayscale images (28x28 pixels) and consists of two parts: train (60k items) and test (10k items).\n",
    "\n",
    "Each part comprises:\n",
    "* an array of images of size 28х28 pixels in greyscale\n",
    "* an array of labels corresponding to a digit on each image."
   ]
  },
  {
   "cell_type": "markdown",
   "metadata": {},
   "source": [
    "Dataset loading:"
   ]
  },
  {
   "cell_type": "code",
   "execution_count": 2,
   "metadata": {},
   "outputs": [
    {
     "name": "stderr",
     "output_type": "stream",
     "text": [
      "100%|██████████| 8/8 [00:02<00:00,  1.43it/s]\n"
     ]
    }
   ],
   "source": [
    "dataset = MNIST(bar=True)"
   ]
  },
  {
   "cell_type": "markdown",
   "metadata": {},
   "source": [
    "Examples of dataset items:"
   ]
  },
  {
   "cell_type": "code",
   "execution_count": 3,
   "metadata": {},
   "outputs": [],
   "source": [
    "train = dataset.train.next_batch(len(dataset.train))\n",
    "test = dataset.test.next_batch(len(dataset.test))"
   ]
  },
  {
   "cell_type": "code",
   "execution_count": 4,
   "metadata": {},
   "outputs": [
    {
     "data": {
      "image/png": "[encoded data removed]",
      "text/plain": [
       "<Figure size 1080x216 with 6 Axes>"
      ]
     },
     "metadata": {},
     "output_type": "display_data"
    }
   ],
   "source": [
    "show_samples(train.to_array().images[:5, :, :, 0], labels=train.labels[:5])"
   ]
  },
  {
   "cell_type": "markdown",
   "metadata": {},
   "source": [
    "Distribution of a number of examples for each class in train and test set.\n",
    "As we can see classes are quietly balanced."
   ]
  },
  {
   "cell_type": "code",
   "execution_count": 5,
   "metadata": {},
   "outputs": [
    {
     "data": {
      "image/png": "[encoded data removed]",
      "text/plain": [
       "<Figure size 432x288 with 1 Axes>"
      ]
     },
     "metadata": {
      "needs_background": "light"
     },
     "output_type": "display_data"
    }
   ],
   "source": [
    "class_histogram(train, test)"
   ]
  },
  {
   "cell_type": "markdown",
   "metadata": {},
   "source": [
    "Data reliability is proved by multiple usages in research e.g. \n",
    "* https://arxiv.org/pdf/1704.07709\n",
    "* https://arxiv.org/abs/1302.4389\n",
    "* https://arxiv.org/abs/1312.4400."
   ]
  },
  {
   "cell_type": "markdown",
   "metadata": {},
   "source": [
    "## Model architecture\n",
    "\n",
    "We use a convolutional neural network consisting of 3 identical blocks.\n",
    "The network architecture can be described by layout `cpna cpna cpna Pf`, where letters correspond to the following layers:\n",
    "* `с` - 2d convolution\n",
    "* `p` - max pooling\n",
    "* `n` - batch normalisation\n",
    "* `a` - activation\n",
    "* `P` - global average pooling\n",
    "* `f` - dense\n",
    "\n",
    "Convolutional layer parameters `c`:\n",
    "* ```filters```= $ 64 \\cdot 2^i $, where i - block number, i=0, 1, 2.\n",
    "* ```kernel_size``` = 3\n",
    "* ```strides``` = 2\n",
    "* ```padding``` = 'same'\n",
    "* ```data_format``` = 'channels_last'\n",
    "* ```activation``` = `None`\n",
    "\n",
    "Pooling layer parameters `p`:\n",
    "* ```pool_size``` = 2\n",
    "* ```pool_strides``` = 1.\n",
    "\n",
    "Activation layer parameters `a`:\n",
    "* `activation` = `tf.nn.relu`\n",
    "\n",
    "Dense layer parameters `dense`:\n",
    "* `filters` = 10\n",
    "* `activation` = `None`\n",
    "\n",
    "Model description config:"
   ]
  },
  {
   "cell_type": "code",
   "execution_count": 6,
   "metadata": {},
   "outputs": [],
   "source": [
    "model_config = {\n",
    "    'inputs/images/shape': B('image_shape'),\n",
    "    'inputs/labels/classes': D('num_classes'),\n",
    "    'initial_block/inputs': 'images',\n",
    "    'body': dict(layout='cpna cpna cpna', filters=[64, 128, 256],\n",
    "                 strides=2, pool_strides=1, kernel_size=3),\n",
    "    'head': dict(layout='Pf', units=D('num_classes')),\n",
    "    'loss': 'crossentropy',\n",
    "    'optimizer': ('Momentum', {'use_nesterov': True, 'learning_rate': 0.01, 'momentum': 0.5}),\n",
    "    'output': ['proba']}"
   ]
  },
  {
   "cell_type": "markdown",
   "metadata": {},
   "source": [
    "## Selection of hyperparameters\n",
    "\n",
    "The choice of the architecture (number of blocks and number of filters in convolutional layers) is motivated by the [research](parameters_estimation.ipynb).\n",
    "\n",
    "Other parameters such as an activation function and a block layout are chosen due to the common standards. "
   ]
  },
  {
   "cell_type": "markdown",
   "metadata": {},
   "source": [
    "## Training\n",
    "\n",
    "The model is trained using stochastic gradient descent. On each iteration\n",
    "* mini-batch data is loaded\n",
    "* the model weights are updated \n",
    "\n",
    "An algorithm of the weights update (optimizer) is the Nesterov momentum with following parameters:\n",
    "* ```learning_rate``` = 0.01\n",
    "* ```mu``` = 0.5\n",
    "\n",
    "The choice of optimizer hyperparameters is motivated by the [research](../additional_examples/parameters_estimation/optimizer_search.ipynb), as for they show the best convergence.\n",
    "\n",
    "Loss - cross-entropy.\n",
    "\n",
    "Dataset bypass:\n",
    "* ```batch_size``` = 64\n",
    "* ```n_epochs``` = 1."
   ]
  },
  {
   "cell_type": "markdown",
   "metadata": {},
   "source": [
    "Training pipeline:"
   ]
  },
  {
   "cell_type": "code",
   "execution_count": 7,
   "metadata": {},
   "outputs": [],
   "source": [
    "train_template = (Pipeline()\n",
    "                  .init_variable('loss_history', init_on_each_run=list)\n",
    "                  .init_model('dynamic', TFModel, 'mnist_model', config=model_config)\n",
    "                  .to_array()\n",
    "                  .train_model('mnist_model', fetches='loss', images=B('images'), labels=B('labels'), \n",
    "                               save_to=V('loss_history', mode='a'))\n",
    "                  .run_later(64, shuffle=True, n_epochs=1, drop_last=True, bar=True))"
   ]
  },
  {
   "cell_type": "markdown",
   "metadata": {},
   "source": [
    "Execute training"
   ]
  },
  {
   "cell_type": "code",
   "execution_count": 8,
   "metadata": {},
   "outputs": [
    {
     "name": "stderr",
     "output_type": "stream",
     "text": [
      "100%|██████████| 937/937 [00:22<00:00, 41.79it/s] \n"
     ]
    }
   ],
   "source": [
    "train_pipeline = (train_template << dataset.train).run()"
   ]
  },
  {
   "cell_type": "markdown",
   "metadata": {},
   "source": [
    "The loss function vs number of iterations:"
   ]
  },
  {
   "cell_type": "code",
   "execution_count": 9,
   "metadata": {},
   "outputs": [
    {
     "data": {
      "image/png": "[encoded data removed]",
      "text/plain": [
       "<Figure size 432x288 with 1 Axes>"
      ]
     },
     "metadata": {
      "needs_background": "light"
     },
     "output_type": "display_data"
    }
   ],
   "source": [
    "show_loss(train_pipeline.get_variable('loss_history'), skip=10)"
   ]
  },
  {
   "cell_type": "markdown",
   "metadata": {},
   "source": [
    "## Inference\n",
    "\n",
    "Prediction pipeline:"
   ]
  },
  {
   "cell_type": "code",
   "execution_count": 10,
   "metadata": {},
   "outputs": [],
   "source": [
    "predict_template = (Pipeline()\n",
    "                    .import_model('mnist_model', train_pipeline)\n",
    "                    .init_variable(\"predictions\", init_on_each_run=list)\n",
    "                    .to_array()\n",
    "                    .predict_model('mnist_model', fetches='proba', images=B('images'),\n",
    "                                   save_to=V('predictions', mode=\"e\")))"
   ]
  },
  {
   "cell_type": "markdown",
   "metadata": {},
   "source": [
    "Execute prediction pipeline"
   ]
  },
  {
   "cell_type": "code",
   "execution_count": 11,
   "metadata": {},
   "outputs": [
    {
     "name": "stderr",
     "output_type": "stream",
     "text": [
      "100%|██████████| 157/157 [00:01<00:00, 154.55it/s]\n"
     ]
    }
   ],
   "source": [
    "predict_pipeline = (predict_template << dataset.test).run(64, shuffle=False, n_epochs=1, drop_last=False, bar=True)"
   ]
  },
  {
   "cell_type": "code",
   "execution_count": 12,
   "metadata": {},
   "outputs": [
    {
     "data": {
      "image/png": "[encoded data removed]",
      "text/plain": [
       "<Figure size 1080x216 with 6 Axes>"
      ]
     },
     "metadata": {},
     "output_type": "display_data"
    }
   ],
   "source": [
    "size = 5\n",
    "y_pred = predict_pipeline.get_variable('predictions')\n",
    "show_samples(test.to_array().images[:size, :, :, 0], labels=np.argmax(y_pred[:size], axis=1))"
   ]
  },
  {
   "cell_type": "markdown",
   "metadata": {},
   "source": [
    "## Model evaluation\n",
    "\n",
    "Quality metric, in this case, is ```accuracy``` on the test set.\n",
    "\n",
    "Metric evaluation pipeline:"
   ]
  },
  {
   "cell_type": "code",
   "execution_count": 13,
   "metadata": {},
   "outputs": [],
   "source": [
    "test_template = (Pipeline()\n",
    "                 .import_model('mnist_model', train_pipeline)\n",
    "                 .init_variable('predictions', init_on_each_run=list)\n",
    "                 .init_variable('metrics', init_on_each_run=None)\n",
    "                 .to_array()\n",
    "                 .predict_model('mnist_model', fetches='proba', images=B('images'),\n",
    "                                save_to=V('predictions'))\n",
    "                 .gather_metrics('class', targets=B('labels'), predictions=V('predictions'),\n",
    "                                 fmt='proba', axis=-1, save_to=V('metrics', mode='u'))\n",
    "                 .run_later(64, shuffle=False, n_epochs=1, drop_last=True, bar=True))"
   ]
  },
  {
   "cell_type": "code",
   "execution_count": 14,
   "metadata": {},
   "outputs": [
    {
     "name": "stderr",
     "output_type": "stream",
     "text": [
      "100%|██████████| 156/156 [00:01<00:00, 81.43it/s]\n"
     ]
    }
   ],
   "source": [
    "test_pipeline = (test_template << dataset.test).run()"
   ]
  },
  {
   "cell_type": "code",
   "execution_count": 15,
   "metadata": {},
   "outputs": [
    {
     "name": "stdout",
     "output_type": "stream",
     "text": [
      "Accuracy: 0.987\n"
     ]
    }
   ],
   "source": [
    "metrics = test_pipeline.get_variable('metrics')\n",
    "print(\"Accuracy: %.3f\" % metrics.evaluate('accuracy'))"
   ]
  },
  {
   "cell_type": "markdown",
   "metadata": {},
   "source": [
    "```confusion_matrix``` on 10 classes (rows and columns are numbered from 0 до 9 corresponding to the numbers on\n",
    "the images):"
   ]
  },
  {
   "cell_type": "code",
   "execution_count": 16,
   "metadata": {},
   "outputs": [
    {
     "name": "stdout",
     "output_type": "stream",
     "text": [
      "[[ 974    0    2    0    0    2    2    0    2    0]\n",
      " [   0 1126    1    0    0    0    2    2    0    0]\n",
      " [   2    2 1024    3    0    0    1    9    3    2]\n",
      " [   0    0    0  988    0    2    1    1    0    1]\n",
      " [   0    0    0    0  965    0    1    0    0    5]\n",
      " [   1    1    0    5    0  882    1    0    0    3]\n",
      " [   0    2    0    0    1    1  944    0    0    1]\n",
      " [   1    1    3    6    1    2    0 1014    2   10]\n",
      " [   1    1    0    5    5    1    4    1  965   17]\n",
      " [   0    0    0    1    8    0    0    0    1  969]]\n"
     ]
    }
   ],
   "source": [
    "print(metrics.confusion_matrix)"
   ]
  },
  {
   "cell_type": "markdown",
   "metadata": {},
   "source": [
    " `Precision` Histogram for each class:"
   ]
  },
  {
   "cell_type": "code",
   "execution_count": 17,
   "metadata": {},
   "outputs": [
    {
     "data": {
      "image/png": "[encoded data removed]",
      "text/plain": [
       "<Figure size 432x288 with 1 Axes>"
      ]
     },
     "metadata": {
      "needs_background": "light"
     },
     "output_type": "display_data"
    }
   ],
   "source": [
    "class_precision(metrics.confusion_matrix)"
   ]
  },
  {
   "cell_type": "markdown",
   "metadata": {},
   "source": [
    "For model performance assessment an [experiment](./model_evaluation.ipynb) was conducted on 20 model training launches from  scratch.\n",
    "\n",
    "Research results loading and a distribution for `accuracy`:"
   ]
  },
  {
   "cell_type": "code",
   "execution_count": 18,
   "metadata": {},
   "outputs": [
    {
     "data": {
      "image/png": "[encoded data removed]",
      "text/plain": [
       "<Figure size 432x288 with 1 Axes>"
      ]
     },
     "metadata": {
      "needs_background": "light"
     },
     "output_type": "display_data"
    },
    {
     "name": "stdout",
     "output_type": "stream",
     "text": [
      "The average (median) accuracy is 0.984\n"
     ]
    }
   ],
   "source": [
    "if os.path.exists('model_evaluation'):\n",
    "    df = Results(path='model_evaluation').load(names='test_metrics')\n",
    "    values = df['accuracy'].values\n",
    "\n",
    "    show_histogram(values)\n",
    "    print('The average (median) accuracy is %.3f' % np.median(values))\n",
    "else:\n",
    "    print(\"Run model evaluation notebook first to see accuracy histogram.\")"
   ]
  },
  {
   "cell_type": "markdown",
   "metadata": {},
   "source": [
    "## Operating time\n",
    "\n",
    "Device: CPU i7.\n",
    "\n",
    "One train step on batch size 64 takes 200 ms. Training time is 32 s.\n",
    "\n",
    "One image inference takes 3 ms, for batch size 64 - 44 ms."
   ]
  },
  {
   "cell_type": "markdown",
   "metadata": {},
   "source": [
    "## Criticism"
   ]
  },
  {
   "cell_type": "markdown",
   "metadata": {},
   "source": [
    "To identify weak spots of the model we performed model prediction on the shifted images.\n",
    "To do so we added an image shift step to the prediction pipeline. An image is shifted on a random number of pixels from the uniform distribution in [-5, 5]"
   ]
  },
  {
   "cell_type": "code",
   "execution_count": 19,
   "metadata": {},
   "outputs": [],
   "source": [
    "criticism_pipeline_template = (\n",
    "  Pipeline()\n",
    "    .import_model(\"mnist_model\", train_pipeline)\n",
    "    .init_variable(\"predictions\")\n",
    "    .init_variable(\"metrics\", init_on_each_run=None)\n",
    "    .shift((R(\"randint\", -5, 5), R(\"randint\", -5, 5)))\n",
    "    .to_array()\n",
    "    .predict_model(\"mnist_model\", fetches=\"predictions\", save_to=V(\"predictions\"),\n",
    "                   images=B(\"images\"))\n",
    "    .gather_metrics(\"class\", targets=B(\"labels\"), predictions=V(\"predictions\"),\n",
    "                    fmt=\"logits\", axis=-1, save_to=V(\"metrics\", mode=\"u\"))\n",
    "    .run_later(batch_size=64, n_epochs=1, drop_last=False, bar=True)\n",
    ")"
   ]
  },
  {
   "cell_type": "markdown",
   "metadata": {},
   "source": [
    "Run criticism pipeline"
   ]
  },
  {
   "cell_type": "code",
   "execution_count": 20,
   "metadata": {},
   "outputs": [
    {
     "name": "stderr",
     "output_type": "stream",
     "text": [
      "100%|██████████| 157/157 [00:01<00:00, 104.66it/s]\n"
     ]
    }
   ],
   "source": [
    "criticism_pipeline = (dataset.test >> criticism_pipeline_template).run()"
   ]
  },
  {
   "cell_type": "markdown",
   "metadata": {},
   "source": [
    "Compute `accuracy`"
   ]
  },
  {
   "cell_type": "code",
   "execution_count": 21,
   "metadata": {},
   "outputs": [
    {
     "name": "stdout",
     "output_type": "stream",
     "text": [
      "Accuracy: 0.774\n"
     ]
    }
   ],
   "source": [
    "print(\"Accuracy: %.3f\" % criticism_pipeline.get_variable(\"metrics\").evaluate(\"accuracy\"))"
   ]
  },
  {
   "cell_type": "markdown",
   "metadata": {},
   "source": [
    "Accuracy decreased by 20%, which means the model is sensitive to a shift."
   ]
  },
  {
   "cell_type": "markdown",
   "metadata": {},
   "source": [
    "## Summary\n",
    "\n",
    "The model classifies images of hand-written digits (grayscale, size 28х28) with an average (median) accuracy of 98.5%.\n"
   ]
  },
  {
   "cell_type": "markdown",
   "metadata": {},
   "source": [
    "## Proposals for the improvement and further development\n",
    "\n",
    "To improve classification (e.g. make it more robast to the image shift) we suggest to include augmentations to the training pipeline."
   ]
  }
 ],
 "metadata": {
  "anaconda-cloud": {},
  "kernelspec": {
   "display_name": "Python 3",
   "language": "python",
   "name": "python3"
  },
  "language_info": {
   "codemirror_mode": {
    "name": "ipython",
    "version": 3
   },
   "file_extension": ".py",
   "mimetype": "text/x-python",
   "name": "python",
   "nbconvert_exporter": "python",
   "pygments_lexer": "ipython3",
   "version": "3.5.2"
  }
 },
 "nbformat": 4,
 "nbformat_minor": 4
}